{
 "cells": [
  {
   "cell_type": "code",
   "execution_count": 1,
   "metadata": {},
   "outputs": [
    {
     "data": {
      "text/plain": [
       "'\\nUtilizaremos a biblioteca Threading \\n\\n- É o módulo principal para criar e gerenciar threads\\nde forma nativa em python.\\n'"
      ]
     },
     "execution_count": 1,
     "metadata": {},
     "output_type": "execute_result"
    }
   ],
   "source": [
    "'''\n",
    "Utilizaremos a biblioteca Threading \n",
    "\n",
    "- É o módulo principal para criar e gerenciar threads\n",
    "de forma nativa em python.\n",
    "'''"
   ]
  },
  {
   "cell_type": "code",
   "execution_count": 2,
   "metadata": {},
   "outputs": [
    {
     "name": "stdout",
     "output_type": "stream",
     "text": [
      "Iniciando tarefa: Thread-1\n",
      "Iniciando tarefa: Thread-2\n",
      "Finalizando tarefa: Thread-1\n",
      "Finalizando tarefa: Thread-2\n",
      "Todas as threads finalizaram!\n"
     ]
    },
    {
     "data": {
      "text/plain": [
       "'\\nStart - Inicia a execução da thread\\nJoin - bloqueia o fluxo principal até a thread terminar\\n        \\n'"
      ]
     },
     "execution_count": 2,
     "metadata": {},
     "output_type": "execute_result"
    }
   ],
   "source": [
    "# Criando Threads\n",
    "\n",
    "import threading\n",
    "import time\n",
    "\n",
    "def tarefa(nome):\n",
    "    print(f\"Iniciando tarefa: {nome}\")\n",
    "    time.sleep(2)\n",
    "    print(f\"Finalizando tarefa: {nome}\")\n",
    "\n",
    "if __name__ == \"__main__\":\n",
    "    # Criando duas threads\n",
    "    t1 = threading.Thread(target=tarefa, args=(\"Thread-1\",))\n",
    "    t2 = threading.Thread(target=tarefa, args=(\"Thread-2\",))\n",
    "\n",
    "    # Iniciando as threads\n",
    "    t1.start()\n",
    "    t2.start()\n",
    "\n",
    "    # Esperando as threads terminarem\n",
    "    t1.join()\n",
    "    t2.join()\n",
    "\n",
    "    print(\"Todas as threads finalizaram!\")\n",
    "\n",
    "\n",
    "'''\n",
    "Start - Inicia a execução da thread\n",
    "Join - bloqueia o fluxo principal até a thread terminar\n",
    "        \n",
    "'''\n"
   ]
  },
  {
   "cell_type": "code",
   "execution_count": 3,
   "metadata": {},
   "outputs": [
    {
     "data": {
      "text/plain": [
       "'\\nQuando threads compartilham recursos (variáveis, dados, arquivos), pode rolar concorrência e resultados inesperados. Pra evitar isso, usamos mecanismos de sincronização:\\n\\nLock (Mutex)\\nGarante que somente uma thread por vez acesse um recurso.\\n\\n'"
      ]
     },
     "execution_count": 3,
     "metadata": {},
     "output_type": "execute_result"
    }
   ],
   "source": [
    "'''\n",
    "Quando threads compartilham recursos (variáveis, dados, arquivos), pode rolar concorrência e resultados inesperados. Pra evitar isso, usamos mecanismos de sincronização:\n",
    "\n",
    "Lock (Mutex)\n",
    "Garante que somente uma thread por vez acesse um recurso.\n",
    "\n",
    "'''"
   ]
  },
  {
   "cell_type": "code",
   "execution_count": 4,
   "metadata": {},
   "outputs": [
    {
     "name": "stdout",
     "output_type": "stream",
     "text": [
      "Valor final do contador: 2000\n"
     ]
    },
    {
     "data": {
      "text/plain": [
       "'\\nSemaphore, Event, Condition\\n    Semaphore: controla acesso de várias threads a um recurso limitado.\\n    Event: usado para comunicação simples entre threads (sinalizar e esperar).\\n    Condition: permite que threads esperem por uma condição específica, útil para filas e padrões de produtor-consumidor. \\n        \\n'"
      ]
     },
     "execution_count": 4,
     "metadata": {},
     "output_type": "execute_result"
    }
   ],
   "source": [
    "import threading\n",
    "import time\n",
    "\n",
    "contador = 0\n",
    "lock = threading.Lock() # with lock simplifica a escrita; ao sair do bloco, o lock é liberado automaticamente.\n",
    "\n",
    "def incrementa(n):\n",
    "    global contador\n",
    "    for _ in range(n):\n",
    "        # Adquire o lock\n",
    "        with lock:\n",
    "            valor = contador\n",
    "            valor += 1\n",
    "            time.sleep(0.001)  # Simulando algum trabalho\n",
    "            contador = valor\n",
    "\n",
    "if __name__ == \"__main__\":\n",
    "    t1 = threading.Thread(target=incrementa, args=(1000,))\n",
    "    t2 = threading.Thread(target=incrementa, args=(1000,))\n",
    "\n",
    "    t1.start()\n",
    "    t2.start()\n",
    "    t1.join()\n",
    "    t2.join()\n",
    "\n",
    "    print(f\"Valor final do contador: {contador}\")\n",
    "\n",
    "'''\n",
    "Semaphore, Event, Condition\n",
    "    Semaphore: controla acesso de várias threads a um recurso limitado.\n",
    "    Event: usado para comunicação simples entre threads (sinalizar e esperar).\n",
    "    Condition: permite que threads esperem por uma condição específica, útil para filas e padrões de produtor-consumidor. \n",
    "        \n",
    "'''\n"
   ]
  },
  {
   "cell_type": "code",
   "execution_count": 6,
   "metadata": {},
   "outputs": [
    {
     "name": "stdout",
     "output_type": "stream",
     "text": [
      "['Processado: 1', 'Processado: 2', 'Processado: 3', 'Processado: 4', 'Processado: 5']\n"
     ]
    }
   ],
   "source": [
    "# 2.1 \n",
    "\n",
    "from concurrent.futures import ThreadPoolExecutor\n",
    "import time\n",
    "\n",
    "def processar_dados(dado):\n",
    "    time.sleep(1)\n",
    "    return f\"Processado: {dado}\"\n",
    "\n",
    "if __name__ == \"__main__\":\n",
    "    dados = [1, 2, 3, 4, 5]\n",
    "\n",
    "    # Esse max_workes significam que até 3 rodam simultaneamente e o .map envia cada item da lista de dados para função processar_dados\n",
    "    with ThreadPoolExecutor(max_workers=3) as executor:\n",
    "        resultados = list(executor.map(processar_dados, dados))\n",
    "\n",
    "    print(resultados)\n"
   ]
  },
  {
   "cell_type": "code",
   "execution_count": null,
   "metadata": {},
   "outputs": [],
   "source": [
    "'''\n",
    "3.0 - MultiProcessing\n",
    "\n",
    "- Contorna o GIL, pois cada processo tem seu próprio interpretador\n",
    "Python e memória.\n",
    "\n",
    "- Adequada para tarefas CPU-Bound, onde precisamos usar múltiplos núcleos\n",
    "e montar desempenho real.\n",
    "'''"
   ]
  },
  {
   "cell_type": "code",
   "execution_count": 2,
   "metadata": {},
   "outputs": [
    {
     "name": "stdout",
     "output_type": "stream",
     "text": [
      "Todos os processos finalizaram!\n",
      "Iniciando a comunicação entre os processos\n",
      "Produção e consumo finalizados!\n"
     ]
    }
   ],
   "source": [
    "import multiprocessing\n",
    "import time\n",
    "\n",
    "def tarefa(nome):\n",
    "    print(f\"Processo iniciando: {nome}\")\n",
    "    time.sleep(2)\n",
    "    print(f\"Processo finalizando: {nome}\")\n",
    "\n",
    "if __name__ == \"__main__\":\n",
    "    p1 = multiprocessing.Process(target=tarefa, args=(\"Proc-1\",))\n",
    "    p2 = multiprocessing.Process(target=tarefa, args=(\"Proc-2\",))\n",
    "\n",
    "    p1.start()\n",
    "    p2.start()\n",
    "\n",
    "    p1.join()\n",
    "    p2.join()\n",
    "\n",
    "    print(\"Todos os processos finalizaram!\")\n",
    "\n",
    "print(\"Iniciando a comunicação entre os processos\")\n",
    "\n",
    "'''\n",
    "- Queue: permite enviar dados entre processos.\n",
    "- Pipe: Canal de comunicação bidirecional.\n",
    "'''\n",
    "\n",
    "import multiprocessing\n",
    "import time\n",
    "\n",
    "def produtor(queue):\n",
    "    for i in range(5):\n",
    "        print(f\"Produzindo {i}\")\n",
    "        queue.put(i)\n",
    "        time.sleep(1)\n",
    "\n",
    "def consumidor(queue):\n",
    "    while True:\n",
    "        item = queue.get()\n",
    "        print(f\"Consumindo {item}\")\n",
    "        if item == 4:\n",
    "            break\n",
    "\n",
    "if __name__ == \"__main__\":\n",
    "    queue = multiprocessing.Queue()\n",
    "    p1 = multiprocessing.Process(target=produtor, args=(queue,))\n",
    "    p2 = multiprocessing.Process(target=consumidor, args=(queue,))\n",
    "\n",
    "    p1.start()\n",
    "    p2.start()\n",
    "\n",
    "    p1.join()\n",
    "    p2.join()\n",
    "\n",
    "    print(\"Produção e consumo finalizados!\")\n",
    "\n"
   ]
  }
 ],
 "metadata": {
  "kernelspec": {
   "display_name": "Python 3",
   "language": "python",
   "name": "python3"
  },
  "language_info": {
   "codemirror_mode": {
    "name": "ipython",
    "version": 3
   },
   "file_extension": ".py",
   "mimetype": "text/x-python",
   "name": "python",
   "nbconvert_exporter": "python",
   "pygments_lexer": "ipython3",
   "version": "3.13.2"
  }
 },
 "nbformat": 4,
 "nbformat_minor": 2
}
