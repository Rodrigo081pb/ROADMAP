{
 "cells": [
  {
   "cell_type": "code",
   "execution_count": null,
   "metadata": {},
   "outputs": [],
   "source": [
    "'''\n",
    "Utilizaremos a biblioteca Threading \n",
    "\n",
    "- É o módulo principal para criar e gerenciar threads\n",
    "de forma nativa em python.\n",
    "'''"
   ]
  },
  {
   "cell_type": "code",
   "execution_count": null,
   "metadata": {},
   "outputs": [
    {
     "name": "stdout",
     "output_type": "stream",
     "text": [
      "Iniciando tarefa: Thread-1Iniciando tarefa: Thread-2\n",
      "\n",
      "Finalizando tarefa: Thread-2Finalizando tarefa: Thread-1\n",
      "\n",
      "Todas as threads finalizaram!\n"
     ]
    }
   ],
   "source": [
    "# Criando Threads\n",
    "\n",
    "import threading\n",
    "import time\n",
    "\n",
    "def tarefa(nome):\n",
    "    print(f\"Iniciando tarefa: {nome}\")\n",
    "    time.sleep(2)\n",
    "    print(f\"Finalizando tarefa: {nome}\")\n",
    "\n",
    "if __name__ == \"__main__\":\n",
    "    # Criando duas threads\n",
    "    t1 = threading.Thread(target=tarefa, args=(\"Thread-1\",))\n",
    "    t2 = threading.Thread(target=tarefa, args=(\"Thread-2\",))\n",
    "\n",
    "    # Iniciando as threads\n",
    "    t1.start()\n",
    "    t2.start()\n",
    "\n",
    "    # Esperando as threads terminarem\n",
    "    t1.join()\n",
    "    t2.join()\n",
    "\n",
    "    print(\"Todas as threads finalizaram!\")\n",
    "\n",
    "\n",
    "'''\n",
    "Start - Inicia a execução da thread\n",
    "Join - bloqueia o fluxo principal até a thread terminar\n",
    "        \n",
    "'''\n"
   ]
  },
  {
   "cell_type": "code",
   "execution_count": null,
   "metadata": {},
   "outputs": [],
   "source": []
  }
 ],
 "metadata": {
  "kernelspec": {
   "display_name": "Python 3",
   "language": "python",
   "name": "python3"
  },
  "language_info": {
   "codemirror_mode": {
    "name": "ipython",
    "version": 3
   },
   "file_extension": ".py",
   "mimetype": "text/x-python",
   "name": "python",
   "nbconvert_exporter": "python",
   "pygments_lexer": "ipython3",
   "version": "3.13.2"
  }
 },
 "nbformat": 4,
 "nbformat_minor": 2
}
