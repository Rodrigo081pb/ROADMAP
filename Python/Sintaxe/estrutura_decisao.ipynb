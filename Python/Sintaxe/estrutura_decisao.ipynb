{
 "cells": [
  {
   "cell_type": "code",
   "execution_count": 15,
   "metadata": {},
   "outputs": [
    {
     "name": "stdout",
     "output_type": "stream",
     "text": [
      "Os valores são iguais\n"
     ]
    }
   ],
   "source": [
    "num1 = int(input(\"Digite um número\"))\n",
    "num2 = int(input(\"Digite um número\"))\n",
    "\n",
    "if num1 > num2:\n",
    "\n",
    "    print(f\"Maior número foi o número: {num1}\")\n",
    "\n",
    "elif num2 > num1:\n",
    "\n",
    "    print(f\"O maior foi: {num2}\")\n",
    "\n",
    "else:\n",
    "\n",
    "    print(f\"Os valores são iguais\")\n"
   ]
  },
  {
   "cell_type": "code",
   "execution_count": 19,
   "metadata": {},
   "outputs": [
    {
     "name": "stdout",
     "output_type": "stream",
     "text": [
      "Menino\n"
     ]
    }
   ],
   "source": [
    "# F OU M\n",
    "\n",
    "sexo_pessoa = input(\"Digite F para Feminino e M para masculino:\")\n",
    "\n",
    "if sexo_pessoa == \"F\" or sexo_pessoa == \"f\":\n",
    "\n",
    "    print(\"Menina\")\n",
    "\n",
    "elif sexo_pessoa == \"M\" or sexo_pessoa == \"m\":\n",
    "\n",
    "    print(\"Menino\")\n",
    "\n",
    "else: \n",
    "\n",
    "    print(\"Invalido\")"
   ]
  }
 ],
 "metadata": {
  "kernelspec": {
   "display_name": "Python 3",
   "language": "python",
   "name": "python3"
  },
  "language_info": {
   "codemirror_mode": {
    "name": "ipython",
    "version": 3
   },
   "file_extension": ".py",
   "mimetype": "text/x-python",
   "name": "python",
   "nbconvert_exporter": "python",
   "pygments_lexer": "ipython3",
   "version": "3.12.5"
  }
 },
 "nbformat": 4,
 "nbformat_minor": 2
}
