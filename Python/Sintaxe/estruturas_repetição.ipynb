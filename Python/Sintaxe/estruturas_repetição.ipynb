{
 "cells": [
  {
   "cell_type": "code",
   "execution_count": null,
   "metadata": {},
   "outputs": [],
   "source": [
    "# Estruras de repetição\n",
    "\n",
    "# Enquanto\n",
    "\n",
    "aux = 0\n",
    "\n",
    "while True:\n",
    "\n",
    "    if aux >= 10:\n",
    "\n",
    "        print(f\"Parou {aux}\")\n",
    "        break\n",
    "\n",
    "    else:\n",
    "\n",
    "        print(aux)\n",
    "\n",
    "    aux = aux + 1\n",
    "\n"
   ]
  },
  {
   "cell_type": "code",
   "execution_count": 13,
   "metadata": {},
   "outputs": [
    {
     "name": "stdout",
     "output_type": "stream",
     "text": [
      "Você errou, Tente novamente\n",
      "Você errou, Tente novamente\n",
      "Você acertou: 777\n"
     ]
    }
   ],
   "source": [
    "# Número secreto\n",
    "\n",
    "while True:\n",
    "\n",
    "    numero_secreto = int(input(\"Digite o número secreto: \"))\n",
    "    \n",
    "    if numero_secreto != 777:\n",
    "\n",
    "        print(\"Você errou, Tente novamente\")\n",
    "        continue\n",
    "    \n",
    "    else:\n",
    "\n",
    "        print(f\"Você acertou: {numero_secreto}\")\n",
    "        break\n"
   ]
  },
  {
   "cell_type": "code",
   "execution_count": 21,
   "metadata": {},
   "outputs": [
    {
     "name": "stdout",
     "output_type": "stream",
     "text": [
      "Mariana conta 1, Mariana conta 1, é 1 é 1 é ana viva a mariana viva a mariana\n",
      "Mariana conta 2, Mariana conta 2, é 2 é 2 é ana viva a mariana viva a mariana\n",
      "Mariana conta 3, Mariana conta 3, é 3 é 3 é ana viva a mariana viva a mariana\n",
      "Mariana conta 4, Mariana conta 4, é 4 é 4 é ana viva a mariana viva a mariana\n",
      "Mariana conta 5, Mariana conta 5, é 5 é 5 é ana viva a mariana viva a mariana\n",
      "Mariana conta 6, Mariana conta 6, é 6 é 6 é ana viva a mariana viva a mariana\n",
      "Mariana conta 7, Mariana conta 7, é 7 é 7 é ana viva a mariana viva a mariana\n",
      "Mariana conta 8, Mariana conta 8, é 8 é 8 é ana viva a mariana viva a mariana\n",
      "Mariana conta 9, Mariana conta 9, é 9 é 9 é ana viva a mariana viva a mariana\n"
     ]
    }
   ],
   "source": [
    "conta = int(input(\"Digite um número: \"))\n",
    "\n",
    "for conta in range(1,10):\n",
    "\n",
    "    print(f\"Mariana conta {conta}, Mariana conta {conta}, é {conta} é {conta} é ana viva a mariana viva a mariana\")"
   ]
  },
  {
   "cell_type": "code",
   "execution_count": 30,
   "metadata": {},
   "outputs": [
    {
     "name": "stdout",
     "output_type": "stream",
     "text": [
      "200\n",
      "199\n",
      "198\n",
      "197\n",
      "196\n",
      "195\n",
      "194\n",
      "193\n",
      "192\n",
      "191\n",
      "190\n",
      "189\n",
      "188\n",
      "187\n",
      "186\n",
      "185\n",
      "184\n",
      "183\n",
      "182\n",
      "181\n",
      "180\n",
      "179\n",
      "178\n",
      "177\n",
      "176\n",
      "175\n",
      "174\n",
      "173\n",
      "172\n",
      "171\n",
      "170\n",
      "169\n",
      "168\n",
      "167\n",
      "166\n",
      "165\n",
      "164\n",
      "163\n",
      "162\n",
      "161\n",
      "160\n",
      "159\n",
      "158\n",
      "157\n",
      "156\n",
      "155\n",
      "154\n",
      "153\n",
      "152\n",
      "151\n",
      "150\n",
      "149\n",
      "148\n",
      "147\n",
      "146\n",
      "145\n",
      "144\n",
      "143\n",
      "142\n",
      "141\n",
      "140\n",
      "139\n",
      "138\n",
      "137\n",
      "136\n",
      "135\n",
      "134\n",
      "133\n",
      "132\n",
      "131\n",
      "130\n",
      "129\n",
      "128\n",
      "127\n",
      "126\n",
      "125\n",
      "124\n",
      "123\n",
      "122\n",
      "121\n",
      "120\n",
      "119\n",
      "118\n",
      "117\n",
      "116\n",
      "115\n",
      "114\n",
      "113\n",
      "112\n",
      "111\n",
      "110\n",
      "109\n",
      "108\n",
      "107\n",
      "106\n",
      "105\n",
      "104\n",
      "103\n",
      "102\n"
     ]
    }
   ],
   "source": [
    "num1 = int(input(\"Digite um número\"))\n",
    "num2 = int(input(\"Digite um número\"))\n",
    "\n",
    "for i in range(num1,num2+1, -1):\n",
    "\n",
    "    print(i)"
   ]
  }
 ],
 "metadata": {
  "kernelspec": {
   "display_name": "Python 3",
   "language": "python",
   "name": "python3"
  },
  "language_info": {
   "codemirror_mode": {
    "name": "ipython",
    "version": 3
   },
   "file_extension": ".py",
   "mimetype": "text/x-python",
   "name": "python",
   "nbconvert_exporter": "python",
   "pygments_lexer": "ipython3",
   "version": "3.12.5"
  }
 },
 "nbformat": 4,
 "nbformat_minor": 2
}
