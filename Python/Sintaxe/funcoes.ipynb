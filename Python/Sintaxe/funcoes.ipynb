{
 "cells": [
  {
   "cell_type": "code",
   "execution_count": null,
   "metadata": {},
   "outputs": [],
   "source": [
    "# Função Hello World \n",
    "\n",
    "def basico(hello):\n",
    "    print(f\"Hello World, {hello}\")\n",
    "\n",
    "basico(\"Soraia\")"
   ]
  },
  {
   "cell_type": "code",
   "execution_count": 11,
   "metadata": {},
   "outputs": [
    {
     "name": "stdout",
     "output_type": "stream",
     "text": [
      "1 \n",
      "2 2 \n",
      "3 3 3 \n",
      "4 4 4 4 \n",
      "5 5 5 5 5 \n",
      "6 6 6 6 6 6 \n",
      "7 7 7 7 7 7 7 \n",
      "8 8 8 8 8 8 8 8 \n",
      "9 9 9 9 9 9 9 9 9 \n",
      "10 10 10 10 10 10 10 10 10 10 \n"
     ]
    }
   ],
   "source": [
    "def imprime_n_vezes(n):\n",
    "    \"\"\"\n",
    "    Para cada i de 1 até n, imprime i repetido i vezes.\n",
    "    Ex:\n",
    "      imprime_n_vezes(3) ->\n",
    "        1\n",
    "        2 2\n",
    "        3 3 3\n",
    "    \"\"\"\n",
    "    for i in range(1, n+1):\n",
    "        print((str(i) + \" \") * i)\n",
    "\n",
    "def main():\n",
    "    n = int(input(\"Digite um valor inteiro para N: \"))\n",
    "    imprime_n_vezes(n)\n",
    "\n",
    "if __name__ == \"__main__\":\n",
    "    main()\n"
   ]
  }
 ],
 "metadata": {
  "kernelspec": {
   "display_name": "Python 3",
   "language": "python",
   "name": "python3"
  },
  "language_info": {
   "codemirror_mode": {
    "name": "ipython",
    "version": 3
   },
   "file_extension": ".py",
   "mimetype": "text/x-python",
   "name": "python",
   "nbconvert_exporter": "python",
   "pygments_lexer": "ipython3",
   "version": "3.12.5"
  }
 },
 "nbformat": 4,
 "nbformat_minor": 2
}
