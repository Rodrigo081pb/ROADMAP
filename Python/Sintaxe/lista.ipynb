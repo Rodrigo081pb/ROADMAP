{
 "cells": [
  {
   "cell_type": "code",
   "execution_count": null,
   "metadata": {},
   "outputs": [
    {
     "name": "stdout",
     "output_type": "stream",
     "text": [
      "A media é 6.0\n"
     ]
    }
   ],
   "source": [
    "dados = [\"Julia\",\"Soraia\"]\n",
    "\n",
    "dados[0]\n",
    "\n",
    "# Adicionando\n",
    "dados.append(\"Alicia\")\n",
    "\n",
    "dados[2]\n",
    "\n",
    "notes = []\n",
    "for i in range(0,4):\n",
    "    \n",
    "    notes.append(int(input(\"Digite uma nota: \")))\n",
    "\n",
    "print(f\"A media é {sum(notes)/len(notes)}\")\n",
    "\n"
   ]
  },
  {
   "cell_type": "code",
   "execution_count": 8,
   "metadata": {},
   "outputs": [
    {
     "name": "stdout",
     "output_type": "stream",
     "text": [
      "15\n",
      "120\n"
     ]
    }
   ],
   "source": [
    "import numpy as np\n",
    "\n",
    "# Faça um Programa que leia um vetor de 5 números inteiros, mostre a soma, a multiplicação e os números.\n",
    "\n",
    "vet_05 = [1,2,3,4,5]\n",
    "\n",
    "soma = sum(vet_05)\n",
    "multil = multil = np.prod(vet_05)\n",
    "\n",
    "print(soma)\n",
    "print(multil)"
   ]
  }
 ],
 "metadata": {
  "kernelspec": {
   "display_name": "Python 3",
   "language": "python",
   "name": "python3"
  },
  "language_info": {
   "codemirror_mode": {
    "name": "ipython",
    "version": 3
   },
   "file_extension": ".py",
   "mimetype": "text/x-python",
   "name": "python",
   "nbconvert_exporter": "python",
   "pygments_lexer": "ipython3",
   "version": "3.12.5"
  }
 },
 "nbformat": 4,
 "nbformat_minor": 2
}
