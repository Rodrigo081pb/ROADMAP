{
 "cells": [
  {
   "cell_type": "code",
   "execution_count": 9,
   "metadata": {},
   "outputs": [
    {
     "name": "stdout",
     "output_type": "stream",
     "text": [
      "A media é 6.0\n"
     ]
    }
   ],
   "source": [
    "dados = [\"Julia\",\"Soraia\"]\n",
    "\n",
    "dados[0]\n",
    "\n",
    "# Adicionando\n",
    "dados.append(\"Alicia\")\n",
    "\n",
    "dados[2]\n",
    "\n",
    "notes = []\n",
    "for i in range(0,4):\n",
    "    \n",
    "    notes.append(int(input(\"Digite uma nota: \")))\n",
    "\n",
    "print(f\"A media é {sum(notes)/len(notes)}\")\n"
   ]
  }
 ],
 "metadata": {
  "kernelspec": {
   "display_name": "Python 3",
   "language": "python",
   "name": "python3"
  },
  "language_info": {
   "codemirror_mode": {
    "name": "ipython",
    "version": 3
   },
   "file_extension": ".py",
   "mimetype": "text/x-python",
   "name": "python",
   "nbconvert_exporter": "python",
   "pygments_lexer": "ipython3",
   "version": "3.12.5"
  }
 },
 "nbformat": 4,
 "nbformat_minor": 2
}
