{
 "cells": [
  {
   "cell_type": "code",
   "execution_count": null,
   "metadata": {},
   "outputs": [],
   "source": [
    "# Estrutura Sequencial"
   ]
  },
  {
   "cell_type": "code",
   "execution_count": null,
   "metadata": {},
   "outputs": [
    {
     "name": "stdout",
     "output_type": "stream",
     "text": [
      "Hello World\n"
     ]
    }
   ],
   "source": [
    "# 01 Faça um Hello world\n",
    "\n",
    "print(\"Hello World\")"
   ]
  },
  {
   "cell_type": "code",
   "execution_count": null,
   "metadata": {},
   "outputs": [
    {
     "name": "stdout",
     "output_type": "stream",
     "text": [
      "7\n"
     ]
    }
   ],
   "source": [
    "# 02 faça um programa que peça e imprima um número\n",
    "\n",
    "pedir_numero = int(input(\"Digite um número? \"))\n",
    "\n",
    "print(pedir_numero)"
   ]
  },
  {
   "cell_type": "code",
   "execution_count": 3,
   "metadata": {},
   "outputs": [
    {
     "name": "stdout",
     "output_type": "stream",
     "text": [
      "O resultado da soma foi: 10\n"
     ]
    }
   ],
   "source": [
    "# Soma de dois números\n",
    "\n",
    "pedir_num1 = int(input(\"Digite um número: \"))\n",
    "pedir_num2 = int(input(\"Digite um número: \"))\n",
    "\n",
    "soma = pedir_num1 + pedir_num2\n",
    "\n",
    "print(f'O resultado da soma foi: {soma}')"
   ]
  },
  {
   "cell_type": "code",
   "execution_count": 12,
   "metadata": {},
   "outputs": [
    {
     "name": "stdout",
     "output_type": "stream",
     "text": [
      "6.0\n"
     ]
    }
   ],
   "source": [
    "# Faça um programa que peça as 4 notas bimestrais e mostre a média\n",
    "\n",
    "num1 = int(input(\"Digite sua primeira nota: \"))\n",
    "num2 = int(input(\"Digite sua segunda nota: \"))\n",
    "num3 = int(input(\"Digite sua terceira nota: \"))\n",
    "num4 = int(input(\"Digite sua quarta nota: \"))\n",
    "\n",
    "soma = num1 + num2 + num3 + num4 \n",
    "media = soma / 4\n",
    "print(media)"
   ]
  }
 ],
 "metadata": {
  "kernelspec": {
   "display_name": "Python 3",
   "language": "python",
   "name": "python3"
  },
  "language_info": {
   "codemirror_mode": {
    "name": "ipython",
    "version": 3
   },
   "file_extension": ".py",
   "mimetype": "text/x-python",
   "name": "python",
   "nbconvert_exporter": "python",
   "pygments_lexer": "ipython3",
   "version": "3.12.5"
  }
 },
 "nbformat": 4,
 "nbformat_minor": 2
}
