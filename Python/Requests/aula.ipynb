{
 "cells": [
  {
   "cell_type": "code",
   "execution_count": 8,
   "metadata": {},
   "outputs": [
    {
     "name": "stdout",
     "output_type": "stream",
     "text": [
      "O site está funcionando\n"
     ]
    }
   ],
   "source": [
    "# Importando a biblioteca\n",
    "\n",
    "import requests\n",
    "\n",
    "# PASSANDO A URL\n",
    "url =  'https://platform.senior.com.br/login/'\n",
    "# Puxando informações desse servidor com requests\n",
    "get_response_site = requests.get(url)\n",
    "\n",
    "# print(get_response_site.text)\n",
    "\n",
    "if get_response_site.status_code == 200:\n",
    "\n",
    "    print(\"O site está funcionando\")\n",
    "    \n",
    "\n",
    "else:\n",
    "\n",
    "    print(get_response_site.status_code)"
   ]
  },
  {
   "cell_type": "code",
   "execution_count": null,
   "metadata": {},
   "outputs": [],
   "source": [
    "# Realizando um POST\n",
    "\n",
    "# URL da API de EXEMPLO\n",
    "url = \"https://api.exemplo.com/users\"\n",
    "\n",
    "# Dados que queremos enviar para criar um novo usuário\n",
    "data = {\n",
    "    \"name\": \"João\",\n",
    "    \"email\": \"joao@exemplo.com\"\n",
    "}\n",
    "\n",
    "'''\n",
    "    Vale ressaltar que em alguns sites utilizamos os headers, tokens, payloads dinâmicos\n",
    "e existe a possibilidade de criptografar e descriptografar.\n",
    "    Em Requests tudo é possível, menos se o servidor cair ou demorar a responder,\n",
    "existe diversas formas de payloads, headers, responses, urls que se completam, \n",
    "pegam sessões específicas, muito melhor que o selenium que um click pode dar erro.\n",
    "    O requests funciona por debaixo dos panos, igual seu símbolo na documentação que é\n",
    "de uma tartaruga marinha que navega no vasto oceano.\n",
    "    Vale ressaltar sobre as coisas possíveis e impossíveis como verify, captura de ids e por ai vai.\n",
    "\n",
    "'''\n",
    "\n",
    "\n",
    "# Fazendo a requisição POST\n",
    "response = requests.post(url, json=data)\n",
    "\n",
    "# Verificando o status da requisição\n",
    "print(\"Status Code:\", response.status_code)\n",
    "\n",
    "# Verificando a resposta\n",
    "print(\"Resposta:\", response.json())\n"
   ]
  }
 ],
 "metadata": {
  "kernelspec": {
   "display_name": "Python 3",
   "language": "python",
   "name": "python3"
  },
  "language_info": {
   "codemirror_mode": {
    "name": "ipython",
    "version": 3
   },
   "file_extension": ".py",
   "mimetype": "text/x-python",
   "name": "python",
   "nbconvert_exporter": "python",
   "pygments_lexer": "ipython3",
   "version": "3.13.2"
  }
 },
 "nbformat": 4,
 "nbformat_minor": 2
}
