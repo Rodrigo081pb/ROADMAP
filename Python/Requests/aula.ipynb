{
 "cells": [
  {
   "cell_type": "code",
   "execution_count": 8,
   "metadata": {},
   "outputs": [
    {
     "name": "stdout",
     "output_type": "stream",
     "text": [
      "O site está funcionando\n"
     ]
    }
   ],
   "source": [
    "# Importando a biblioteca\n",
    "\n",
    "import requests\n",
    "\n",
    "# PASSANDO A URL\n",
    "url =  'https://platform.senior.com.br/login/'\n",
    "# Puxando informações desse servidor com requests\n",
    "get_response_site = requests.get(url)\n",
    "\n",
    "# print(get_response_site.text)\n",
    "\n",
    "if get_response_site.status_code == 200:\n",
    "\n",
    "    print(\"O site está funcionando\")\n",
    "    \n",
    "\n",
    "else:\n",
    "\n",
    "    print(get_response_site.status_code)"
   ]
  },
  {
   "cell_type": "code",
   "execution_count": null,
   "metadata": {},
   "outputs": [],
   "source": [
    "# Realizando um POST\n",
    "\n",
    "# URL da API de EXEMPLO\n",
    "url = \"https://api.exemplo.com/users\"\n",
    "\n",
    "# Dados que queremos enviar para criar um novo usuário\n",
    "data = {\n",
    "    \"name\": \"João\",\n",
    "    \"email\": \"joao@exemplo.com\"\n",
    "}\n",
    "\n",
    "'''\n",
    "    Vale ressaltar que em alguns sites utilizamos os headers, tokens, payloads dinâmicos\n",
    "e existe a possibilidade de criptografar e descriptografar.\n",
    "    Em Requests tudo é possível, menos se o servidor cair ou demorar a responder,\n",
    "existe diversas formas de payloads, headers, responses, urls que se completam, \n",
    "pegam sessões específicas, muito melhor que o selenium que um click pode dar erro.\n",
    "    O requests funciona por debaixo dos panos, igual seu símbolo na documentação que é\n",
    "de uma tartaruga marinha que navega no vasto oceano.\n",
    "    Vale ressaltar sobre as coisas possíveis e impossíveis como verify, captura de ids e por ai vai.\n",
    "\n",
    "'''\n",
    "\n",
    "\n",
    "# Fazendo a requisição POST\n",
    "response = requests.post(url, json=data)\n",
    "\n",
    "# Verificando o status da requisição\n",
    "print(\"Status Code:\", response.status_code)\n",
    "\n",
    "# Verificando a resposta\n",
    "print(\"Resposta:\", response.json())\n"
   ]
  },
  {
   "cell_type": "code",
   "execution_count": null,
   "metadata": {},
   "outputs": [],
   "source": [
    "'''\n",
    "Manipulando Respostas da API\n",
    "\n",
    "As respostas da API geralmente vêm em formato JSON. No Requests, tu pode utilizar o método .json() para trabalhar com a resposta, como vimos nos exemplos acima.\n",
    "\n",
    "Os códigos de status mais comuns são:\n",
    "\n",
    "200: OK – A requisição foi bem-sucedida.\n",
    "201: Created – Recurso criado com sucesso (normalmente para POST).\n",
    "400: Bad Request – A requisição não foi entendida pelo servidor.\n",
    "401: Unauthorized – Necessário autenticação.\n",
    "404: Not Found – O recurso não foi encontrado.\n",
    "500: Internal Server Error – Erro no servidor.\n",
    "'''\n",
    "\n",
    "# E para aprender a lidar com erros\n",
    "\n",
    "try:\n",
    "    response = requests.get(\"https://api.exemplo.com/users\")\n",
    "    response.raise_for_status()  # Levanta um erro se o código de status for 4xx ou 5xx\n",
    "except requests.exceptions.RequestException as e:\n",
    "    print(f\"Ocorreu um erro: {e}\")\n"
   ]
  },
  {
   "cell_type": "code",
   "execution_count": null,
   "metadata": {},
   "outputs": [],
   "source": [
    "'''\n",
    "Autenticação em APIS\n",
    "\n",
    "Algumas APIs exigem autenticação (login). Existem duas formas mais comuns\n",
    "de autenticação em APIs REST:\n",
    "\n",
    "- API Key e OAuth\n",
    "\n",
    "'''"
   ]
  },
  {
   "cell_type": "code",
   "execution_count": null,
   "metadata": {},
   "outputs": [],
   "source": [
    "'''\n",
    "API Key\n",
    "\n",
    "Para APIs que exigem uma chave de API,\n",
    "você pode passá-lo no cabeçalho (header)\n",
    "da requisição\n",
    "\n",
    "'''\n",
    "\n",
    "\n",
    "# URL da API\n",
    "url = \"https://api.exemplo.com/users\"\n",
    "\n",
    "# Cabeçalhos com a API Key\n",
    "headers = {\n",
    "    \"Authorization\": \"Bearer SUA_CHAVE_API_AQUI\"\n",
    "}\n",
    "\n",
    "# Fazendo a requisição GET com autenticação\n",
    "response = requests.get(url, headers=headers)\n",
    "\n",
    "# Verificando a resposta\n",
    "print(response.status_code)\n",
    "print(response.json())\n",
    "\n"
   ]
  }
 ],
 "metadata": {
  "kernelspec": {
   "display_name": "Python 3",
   "language": "python",
   "name": "python3"
  },
  "language_info": {
   "codemirror_mode": {
    "name": "ipython",
    "version": 3
   },
   "file_extension": ".py",
   "mimetype": "text/x-python",
   "name": "python",
   "nbconvert_exporter": "python",
   "pygments_lexer": "ipython3",
   "version": "3.13.2"
  }
 },
 "nbformat": 4,
 "nbformat_minor": 2
}
